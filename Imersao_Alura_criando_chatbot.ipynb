{
  "nbformat": 4,
  "nbformat_minor": 0,
  "metadata": {
    "colab": {
      "provenance": [],
      "authorship_tag": "ABX9TyOQZSBA5XUl8loMY/apap7i",
      "include_colab_link": true
    },
    "kernelspec": {
      "name": "python3",
      "display_name": "Python 3"
    },
    "language_info": {
      "name": "python"
    }
  },
  "cells": [
    {
      "cell_type": "markdown",
      "metadata": {
        "id": "view-in-github",
        "colab_type": "text"
      },
      "source": [
        "<a href=\"https://colab.research.google.com/github/azuooss/Imersao_Alura_criando_chatbot/blob/main/Imersao_Alura_criando_chatbot.ipynb\" target=\"_parent\"><img src=\"https://colab.research.google.com/assets/colab-badge.svg\" alt=\"Open In Colab\"/></a>"
      ]
    },
    {
      "cell_type": "markdown",
      "source": [
        "Instalando o SDK do Google"
      ],
      "metadata": {
        "id": "mkd5HqoYScHC"
      }
    },
    {
      "cell_type": "code",
      "source": [
        "!pip install -q -U google-generativeai"
      ],
      "metadata": {
        "id": "8bIqbWbQT2jb"
      },
      "execution_count": null,
      "outputs": []
    },
    {
      "cell_type": "code",
      "source": [
        "import google.generativeai as genai\n",
        "from google.colab import userdata\n",
        "api_key = userdata.get(\"SECRET_KEY\")\n",
        "genai.configure(api_key = api_key)"
      ],
      "metadata": {
        "id": "g1rIIHFwRzBN"
      },
      "execution_count": null,
      "outputs": []
    },
    {
      "cell_type": "markdown",
      "source": [
        "Listar os modelos disponíveis"
      ],
      "metadata": {
        "id": "3KutZ85ySl_2"
      }
    },
    {
      "cell_type": "code",
      "source": [
        "for m in genai.list_models():\n",
        "  if 'generateContent' in m.supported_generation_methods:\n",
        "    print(m.name)"
      ],
      "metadata": {
        "colab": {
          "base_uri": "https://localhost:8080/",
          "height": 139
        },
        "id": "ws6pfCRfSQxh",
        "outputId": "487a0c6f-38cd-41b7-9c36-2918a045bf97"
      },
      "execution_count": null,
      "outputs": [
        {
          "output_type": "stream",
          "name": "stdout",
          "text": [
            "models/gemini-1.0-pro\n",
            "models/gemini-1.0-pro-001\n",
            "models/gemini-1.0-pro-latest\n",
            "models/gemini-1.0-pro-vision-latest\n",
            "models/gemini-1.5-pro-latest\n",
            "models/gemini-pro\n",
            "models/gemini-pro-vision\n"
          ]
        }
      ]
    },
    {
      "cell_type": "markdown",
      "source": [
        "Definição de amplitude"
      ],
      "metadata": {
        "id": "xT-mJELmaI-F"
      }
    },
    {
      "cell_type": "code",
      "source": [
        "generation_config = {\n",
        "     \"candidate_count\" : 1,\n",
        "     \"temperature\" : 0.5,\n",
        " }"
      ],
      "metadata": {
        "id": "pn2BXuK-TYMf"
      },
      "execution_count": null,
      "outputs": []
    },
    {
      "cell_type": "markdown",
      "source": [
        "Definição de configurações de segurança"
      ],
      "metadata": {
        "id": "HIrPKZaeaN37"
      }
    },
    {
      "cell_type": "code",
      "source": [
        "safety_settings = {\n",
        "    \"HARASSMENT\" : \"BLOCK_NONE\",\n",
        "    \"HATE\" : \"BLOCK_NONE\",\n",
        "    \"SEXUAL\" : \"BLOCK_NONE\",\n",
        "    \"DANGEROUS\" : \"BLOCK_NONE\"\n",
        "}"
      ],
      "metadata": {
        "id": "_RFXS2gqWQ3K"
      },
      "execution_count": null,
      "outputs": []
    },
    {
      "cell_type": "markdown",
      "source": [
        "Inicializando o modelo"
      ],
      "metadata": {
        "id": "yyerTW97aX04"
      }
    },
    {
      "cell_type": "code",
      "source": [
        "model = genai.GenerativeModel(model_name=\"gemini-1.0-pro\", generation_config=generation_config, safety_settings=safety_settings)"
      ],
      "metadata": {
        "id": "86jZ17MEZfwl"
      },
      "execution_count": null,
      "outputs": []
    },
    {
      "cell_type": "markdown",
      "source": [
        "Resposta para verificar a funcionalidade do código"
      ],
      "metadata": {
        "id": "1oc58SHCb51-"
      }
    },
    {
      "cell_type": "code",
      "source": [
        "response = model.generate_content(\"Vamos aprender conteúdo sobre RPG. Me dê sugestões.\")"
      ],
      "metadata": {
        "id": "YzP9aCombKBZ"
      },
      "execution_count": null,
      "outputs": []
    },
    {
      "cell_type": "code",
      "source": [
        "print(response.text)"
      ],
      "metadata": {
        "colab": {
          "base_uri": "https://localhost:8080/"
        },
        "id": "Fyds30FzbgDu",
        "outputId": "7eee0266-c534-437d-c8c4-9de45f26fcb2"
      },
      "execution_count": null,
      "outputs": [
        {
          "output_type": "stream",
          "name": "stdout",
          "text": [
            "**Conceitos Fundamentais**\n",
            "\n",
            "* O que é RPG?\n",
            "* Tipos de RPG (mesa, eletrônico, LARP)\n",
            "* Elementos básicos de um RPG (personagens, cenário, regras)\n",
            "\n",
            "**Criação de Personagens**\n",
            "\n",
            "* Tipos de personagens (guerreiro, mago, clérigo, etc.)\n",
            "* Atributos e habilidades\n",
            "* Antecedentes e motivações\n",
            "\n",
            "**Sistemas de Regras**\n",
            "\n",
            "* Diferentes sistemas de regras (D&D, Pathfinder, GURPS)\n",
            "* Mecânicas de combate, exploração e interação social\n",
            "* Vantagens e desvantagens dos diferentes sistemas\n",
            "\n",
            "**Cenários e Campanhas**\n",
            "\n",
            "* Tipos de cenários (fantasia, ficção científica, horror)\n",
            "* Criação de mundos e histórias\n",
            "* Campanhas e arcos de história\n",
            "\n",
            "**Jogabilidade**\n",
            "\n",
            "* Papel do mestre de jogo (GM)\n",
            "* Interpretação de personagens\n",
            "* Resolução de conflitos e desafios\n",
            "* Progressão de personagens e evolução da história\n",
            "\n",
            "**Aspectos Sociais e Psicológicos**\n",
            "\n",
            "* Benefícios sociais do RPG (criatividade, trabalho em equipe)\n",
            "* Impacto psicológico do RPG (imersão, escapismo)\n",
            "* Ética e responsabilidade no RPG\n",
            "\n",
            "**Recursos Adicionais**\n",
            "\n",
            "* Livros e manuais de RPG\n",
            "* Sites e fóruns de RPG\n",
            "* Comunidades e grupos de RPG\n",
            "* Eventos e convenções de RPG\n"
          ]
        }
      ]
    },
    {
      "cell_type": "markdown",
      "source": [
        "Criação do chatbot"
      ],
      "metadata": {
        "id": "iJqM30L1cc4O"
      }
    },
    {
      "cell_type": "code",
      "source": [
        "chat = model.start_chat(history=[])"
      ],
      "metadata": {
        "id": "Pexol3U4bk_2"
      },
      "execution_count": null,
      "outputs": []
    },
    {
      "cell_type": "markdown",
      "source": [
        "Pedido de prompt e ponto de parada de execução"
      ],
      "metadata": {
        "id": "uppRQE1odXht"
      }
    },
    {
      "cell_type": "code",
      "source": [
        "prompt = input(\"Esperando prompt: \")\n",
        "\n",
        "while prompt != \"fim\":\n",
        "  response = chat.send_message(prompt)\n",
        "  print(\"Resposta: \", response.text, \"\\n\")\n",
        "  prompt = input(\"Esperando prompt: \")"
      ],
      "metadata": {
        "colab": {
          "base_uri": "https://localhost:8080/",
          "height": 471
        },
        "id": "L0MPmQCtcW4H",
        "outputId": "abd77fa8-9471-4725-8d9b-f457cfa7fcf2"
      },
      "execution_count": null,
      "outputs": [
        {
          "name": "stdout",
          "output_type": "stream",
          "text": [
            "Esperando prompt: Qual é a capital do Japão?\n",
            "Resposta:  Tóquio \n",
            "\n",
            "Esperando prompt: Qual é a comida típica desse país?\n",
            "Resposta:  Sushi \n",
            "\n",
            "Esperando prompt: Existem campanhas de RPG no japão?\n",
            "Resposta:  Sim, existem muitas campanhas de RPG no Japão. Os jogos de RPG são muito populares no país e existem muitas empresas que produzem jogos de RPG, incluindo algumas das maiores empresas de videogames do mundo, como Square Enix e Bandai Namco.\n",
            "\n",
            "Alguns dos jogos de RPG mais populares do Japão incluem:\n",
            "\n",
            "* Final Fantasy\n",
            "* Dragon Quest\n",
            "* Pokémon\n",
            "* Persona\n",
            "* The Legend of Zelda\n",
            "* Kingdom Hearts\n",
            "* Tales of\n",
            "* Ys\n",
            "* Atelier\n",
            "* Disgaea\n",
            "\n",
            "Além dos videogames, também existem muitos jogos de RPG de mesa populares no Japão, como Dungeons & Dragons e Sword World RPG. \n",
            "\n",
            "Esperando prompt: fim\n"
          ]
        }
      ]
    },
    {
      "cell_type": "markdown",
      "source": [
        "Embelezando a visualização do código"
      ],
      "metadata": {
        "id": "qXXXHqiafsEX"
      }
    },
    {
      "cell_type": "code",
      "source": [
        "#Melhorando a visualização\n",
        "#Código disponível em https://ai.google.dev/tutorials/python_quickstart#import_packages\n",
        "import textwrap\n",
        "from IPython.display import display\n",
        "from IPython.display import Markdown\n",
        "\n",
        "def to_markdown(text):\n",
        "  text = text.replace('•', '  *')\n",
        "  return Markdown(textwrap.indent(text, '> ', predicate=lambda _: True))\n",
        "\n",
        "#Imprimindo o histórico\n",
        "for message in chat.history:\n",
        "  display(to_markdown(f'**{message.role}**: {message.parts[0].text}'))\n",
        "  print('-------------------------------------------')"
      ],
      "metadata": {
        "colab": {
          "base_uri": "https://localhost:8080/",
          "height": 672
        },
        "id": "XtNTzOjAdTvm",
        "outputId": "f65dd303-c5f4-46cd-b5f5-59aab6710bdd"
      },
      "execution_count": null,
      "outputs": [
        {
          "output_type": "display_data",
          "data": {
            "text/plain": [
              "<IPython.core.display.Markdown object>"
            ],
            "text/markdown": "> **user**: Qual é a capital do Japão?"
          },
          "metadata": {}
        },
        {
          "output_type": "stream",
          "name": "stdout",
          "text": [
            "-------------------------------------------\n"
          ]
        },
        {
          "output_type": "display_data",
          "data": {
            "text/plain": [
              "<IPython.core.display.Markdown object>"
            ],
            "text/markdown": "> **model**: Tóquio"
          },
          "metadata": {}
        },
        {
          "output_type": "stream",
          "name": "stdout",
          "text": [
            "-------------------------------------------\n"
          ]
        },
        {
          "output_type": "display_data",
          "data": {
            "text/plain": [
              "<IPython.core.display.Markdown object>"
            ],
            "text/markdown": "> **user**: Qual é a comida típica desse país?"
          },
          "metadata": {}
        },
        {
          "output_type": "stream",
          "name": "stdout",
          "text": [
            "-------------------------------------------\n"
          ]
        },
        {
          "output_type": "display_data",
          "data": {
            "text/plain": [
              "<IPython.core.display.Markdown object>"
            ],
            "text/markdown": "> **model**: Sushi"
          },
          "metadata": {}
        },
        {
          "output_type": "stream",
          "name": "stdout",
          "text": [
            "-------------------------------------------\n"
          ]
        },
        {
          "output_type": "display_data",
          "data": {
            "text/plain": [
              "<IPython.core.display.Markdown object>"
            ],
            "text/markdown": "> **user**: Existem campanhas de RPG no japão?"
          },
          "metadata": {}
        },
        {
          "output_type": "stream",
          "name": "stdout",
          "text": [
            "-------------------------------------------\n"
          ]
        },
        {
          "output_type": "display_data",
          "data": {
            "text/plain": [
              "<IPython.core.display.Markdown object>"
            ],
            "text/markdown": "> **model**: Sim, existem muitas campanhas de RPG no Japão. Os jogos de RPG são muito populares no país e existem muitas empresas que produzem jogos de RPG, incluindo algumas das maiores empresas de videogames do mundo, como Square Enix e Bandai Namco.\n> \n> Alguns dos jogos de RPG mais populares do Japão incluem:\n> \n> * Final Fantasy\n> * Dragon Quest\n> * Pokémon\n> * Persona\n> * The Legend of Zelda\n> * Kingdom Hearts\n> * Tales of\n> * Ys\n> * Atelier\n> * Disgaea\n> \n> Além dos videogames, também existem muitos jogos de RPG de mesa populares no Japão, como Dungeons & Dragons e Sword World RPG."
          },
          "metadata": {}
        },
        {
          "output_type": "stream",
          "name": "stdout",
          "text": [
            "-------------------------------------------\n"
          ]
        }
      ]
    }
  ]
}